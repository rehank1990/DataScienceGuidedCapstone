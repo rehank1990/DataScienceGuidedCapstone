{
 "cells": [
  {
   "cell_type": "markdown",
   "metadata": {},
   "source": [
    "### Capstone 3: Data Wrangling - Snowflake Cloud Datawarehouse vs. On-Prem MSSQL Comparison"
   ]
  },
  {
   "cell_type": "markdown",
   "metadata": {},
   "source": [
    "#### Import Relevant Packages"
   ]
  },
  {
   "cell_type": "code",
   "execution_count": 37,
   "metadata": {},
   "outputs": [],
   "source": [
    "import pandas as pd \n",
    "import sqlalchemy \n",
    "import matplotlib.pyplot as plt \n",
    "import pyodbc\n",
    "from snowflake.connector.pandas_tools import write_pandas\n",
    "import snowflake.connector\n",
    "import os \n",
    "import warnings\n",
    "\n",
    "\n",
    "warnings.filterwarnings(\"ignore\")"
   ]
  },
  {
   "cell_type": "markdown",
   "metadata": {},
   "source": [
    "#### Connect to Local MSSQL Instance and Load SQL Query"
   ]
  },
  {
   "cell_type": "code",
   "execution_count": 38,
   "metadata": {},
   "outputs": [],
   "source": [
    "# Define connection string\n",
    "connection_string = 'mssql+pyodbc://REHAN-DESKTOP\\SQLEXPRESS/AdventureWorks2022?driver=ODBC+Driver+17+for+SQL+Server&trusted_connection=yes'\n",
    "\n",
    "\n",
    "# Create SQLAlchemy Engine\n",
    "engine = sqlalchemy.create_engine(connection_string)\n",
    "\n",
    "# SQL query\n",
    "query = \"\"\" SELECT\n",
    "    SOH.SalesOrderID,\n",
    "    SOH.OrderDate,\n",
    "    P.ProductID,\n",
    "    P.Name AS ProductName,\n",
    "    SOD.OrderQty,\n",
    "    SOD.UnitPrice,\n",
    "    SOD.LineTotal\n",
    "FROM\n",
    "Sales.SalesOrderHeader AS SOH\n",
    "JOIN Sales.SalesOrderDetail AS SOD ON SOH.SalesOrderID = SOD.SalesOrderID\n",
    "JOIN Sales.Customer AS C ON SOH.CustomerID = C.CustomerID\n",
    "JOIN Production.Product AS P ON SOD.ProductID = P.ProductID\n",
    "ORDER BY SOH.OrderDate DESC \"\"\"\n"
   ]
  },
  {
   "cell_type": "markdown",
   "metadata": {},
   "source": [
    "#### Connect to Snowflake Cloud Instance"
   ]
  },
  {
   "cell_type": "code",
   "execution_count": 39,
   "metadata": {},
   "outputs": [],
   "source": [
    "# Add Connection Parameters\n",
    "snowflake_conn = snowflake.connector.connect(\n",
    "    user='REHANK1990',\n",
    "    password='Bismillah!1',\n",
    "    account='sajugab-fma81222',\n",
    "    warehouse='COMPUTE_WH',\n",
    "    database='ADVENTUREWORKS2022',\n",
    "    schema='ADVENTUREWORKS2022',\n",
    "    role='ACCOUNTADMIN'\n",
    ")\n",
    "\n",
    "    \n",
    "snowflake_query=\"\"\"SELECT\n",
    "    SOH.SalesOrderID,\n",
    "    SOH.OrderDate,\n",
    "    P.ProductID,\n",
    "    P.Name AS ProductName,\n",
    "    SOD.OrderQty,\n",
    "    SOD.UnitPrice,\n",
    "    SOD.LineTotal\n",
    "FROM \"Sales.SalesOrderHeader\" AS SOH\n",
    "JOIN \"Sales.SalesOrderDetail\" AS SOD ON SOH.SalesOrderID = SOD.SalesOrderID\n",
    "JOIN \"Sales.Customer\" AS C ON SOH.CustomerID = C.CustomerID\n",
    "JOIN \"Production.Product\" AS P ON SOD.ProductID = P.ProductID\n",
    "ORDER BY SOH.OrderDate DESC\"\"\"\n"
   ]
  },
  {
   "cell_type": "markdown",
   "metadata": {},
   "source": [
    "#### Add Both Queries Into Dataframe"
   ]
  },
  {
   "cell_type": "markdown",
   "metadata": {},
   "source": [
    "###### MSSQL Dataframe\n"
   ]
  },
  {
   "cell_type": "code",
   "execution_count": 40,
   "metadata": {},
   "outputs": [
    {
     "name": "stdout",
     "output_type": "stream",
     "text": [
      "   SalesOrderID  OrderDate  ProductID            ProductName  OrderQty  \\\n",
      "0         75084 2014-06-30        876    Hitch Rack - 4-Bike         1   \n",
      "1         75085 2014-06-30        712           AWC Logo Cap         1   \n",
      "2         75085 2014-06-30        877  Bike Wash - Dissolver         1   \n",
      "3         75086 2014-06-30        877  Bike Wash - Dissolver         1   \n",
      "4         75087 2014-06-30        707  Sport-100 Helmet, Red         1   \n",
      "\n",
      "   UnitPrice  LineTotal  \n",
      "0     120.00     120.00  \n",
      "1       8.99       8.99  \n",
      "2       7.95       7.95  \n",
      "3       7.95       7.95  \n",
      "4      34.99      34.99  \n"
     ]
    }
   ],
   "source": [
    "# Execute query and read data into DataFrame (MSSQL)\n",
    "sql_df = pd.read_sql(query, engine)\n",
    "\n",
    "# Perform data analysis or manipulation\n",
    "print(sql_df.head())  # Display first few rows of DataFrame\n",
    "\n",
    "#capture df load time\n",
    "sql_load_seconds = 7.8"
   ]
  },
  {
   "cell_type": "markdown",
   "metadata": {},
   "source": [
    "###### Snowflake Dataframe\n"
   ]
  },
  {
   "cell_type": "code",
   "execution_count": 41,
   "metadata": {},
   "outputs": [
    {
     "name": "stdout",
     "output_type": "stream",
     "text": [
      "   SALESORDERID  ORDERDATE  PRODUCTID                      PRODUCTNAME  \\\n",
      "0         75119 2014-06-30        873              Patch Kit/8 Patches   \n",
      "1         75123 2014-06-30        712                     AWC Logo Cap   \n",
      "2         75123 2014-06-30        879           All-Purpose Bike Stand   \n",
      "3         75123 2014-06-30        878            Fender Set - Mountain   \n",
      "4         75122 2014-06-30        712                     AWC Logo Cap   \n",
      "5         75122 2014-06-30        878            Fender Set - Mountain   \n",
      "6         75121 2014-06-30        707            Sport-100 Helmet, Red   \n",
      "7         75121 2014-06-30        930                 HL Mountain Tire   \n",
      "8         75120 2014-06-30        712                     AWC Logo Cap   \n",
      "9         75120 2014-06-30        884  Short-Sleeve Classic Jersey, XL   \n",
      "\n",
      "   ORDERQTY  UNITPRICE  LINETOTAL  \n",
      "0         1          2          2  \n",
      "1         1          9          9  \n",
      "2         1        159        159  \n",
      "3         1         22         22  \n",
      "4         1          9          9  \n",
      "5         1         22         22  \n",
      "6         1         35         35  \n",
      "7         1         35         35  \n",
      "8         1          9          9  \n",
      "9         1         54         54  \n"
     ]
    }
   ],
   "source": [
    "# Create a DataFrame using fetched rows and column names\n",
    "snowflake_df = pd.read_sql(snowflake_query, snowflake_conn)\n",
    "\n",
    "# Close the cursor and connection when done\n",
    "#cursor.close()\n",
    "#snowflake_conn.close()\n",
    "\n",
    "# Now you can work with the DataFrame\n",
    "print(snowflake_df.head(10))  # Display the first few rows of the DataFrame\n",
    "\n",
    "#Snowflake Load Time \n",
    "snowflake_load_seconds = 0.6"
   ]
  },
  {
   "cell_type": "markdown",
   "metadata": {},
   "source": [
    "#### Set Column Names to Match"
   ]
  },
  {
   "cell_type": "code",
   "execution_count": 42,
   "metadata": {},
   "outputs": [
    {
     "name": "stdout",
     "output_type": "stream",
     "text": [
      "Index(['SalesOrderID', 'OrderDate', 'ProductID', 'ProductName', 'OrderQty',\n",
      "       'UnitPrice', 'LineTotal'],\n",
      "      dtype='object')\n"
     ]
    }
   ],
   "source": [
    "#set snowflake df columns to be the same as sql df\n",
    "snowflake_df.columns = sql_df.columns \n",
    "print(sql_df.columns)"
   ]
  },
  {
   "cell_type": "markdown",
   "metadata": {},
   "source": [
    "#### Check Data Types in Both Dataframes"
   ]
  },
  {
   "cell_type": "code",
   "execution_count": 43,
   "metadata": {},
   "outputs": [
    {
     "data": {
      "text/plain": [
       "SalesOrderID             int64\n",
       "OrderDate       datetime64[ns]\n",
       "ProductID                int64\n",
       "ProductName             object\n",
       "OrderQty                 int64\n",
       "UnitPrice              float64\n",
       "LineTotal              float64\n",
       "dtype: object"
      ]
     },
     "execution_count": 43,
     "metadata": {},
     "output_type": "execute_result"
    }
   ],
   "source": [
    "#check datatypes for sql df\n",
    "sql_df.dtypes"
   ]
  },
  {
   "cell_type": "code",
   "execution_count": 44,
   "metadata": {},
   "outputs": [
    {
     "data": {
      "text/plain": [
       "SalesOrderID             int64\n",
       "OrderDate       datetime64[ns]\n",
       "ProductID                int64\n",
       "ProductName             object\n",
       "OrderQty                 int64\n",
       "UnitPrice                int64\n",
       "LineTotal                int64\n",
       "dtype: object"
      ]
     },
     "execution_count": 44,
     "metadata": {},
     "output_type": "execute_result"
    }
   ],
   "source": [
    "#check datatypes for snowflake df\n",
    "snowflake_df.dtypes"
   ]
  },
  {
   "cell_type": "code",
   "execution_count": 46,
   "metadata": {},
   "outputs": [],
   "source": [
    "#change snowflake dtypes to match sql_df\n",
    "snowflake_df[['UnitPrice', 'LineTotal']] = snowflake_df[['UnitPrice', 'LineTotal']].astype('float64')"
   ]
  },
  {
   "cell_type": "code",
   "execution_count": 47,
   "metadata": {},
   "outputs": [
    {
     "data": {
      "text/plain": [
       "SalesOrderID             int64\n",
       "OrderDate       datetime64[ns]\n",
       "ProductID                int64\n",
       "ProductName             object\n",
       "OrderQty                 int64\n",
       "UnitPrice              float64\n",
       "LineTotal              float64\n",
       "dtype: object"
      ]
     },
     "execution_count": 47,
     "metadata": {},
     "output_type": "execute_result"
    }
   ],
   "source": [
    "snowflake_df.dtypes"
   ]
  }
 ],
 "metadata": {
  "kernelspec": {
   "display_name": "base",
   "language": "python",
   "name": "python3"
  },
  "language_info": {
   "codemirror_mode": {
    "name": "ipython",
    "version": 3
   },
   "file_extension": ".py",
   "mimetype": "text/x-python",
   "name": "python",
   "nbconvert_exporter": "python",
   "pygments_lexer": "ipython3",
   "version": "3.11.4"
  }
 },
 "nbformat": 4,
 "nbformat_minor": 2
}
